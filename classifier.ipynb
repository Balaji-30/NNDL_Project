{
 "cells": [
  {
   "cell_type": "code",
   "execution_count": 1,
   "id": "315073b8",
   "metadata": {},
   "outputs": [],
   "source": [
    "import torch\n",
    "import torch.nn as nn\n",
    "import torch.nn.functional as F\n",
    "from torch.utils.data import DataLoader\n",
    "from torchvision import transforms\n",
    "from medmnist import ChestMNIST\n",
    "from sklearn.metrics import roc_auc_score"
   ]
  },
  {
   "cell_type": "code",
   "execution_count": 2,
   "id": "c8fb6ef0",
   "metadata": {},
   "outputs": [],
   "source": [
    "# Parameters\n",
    "BATCH_SIZE = 64\n",
    "NUM_EPOCHS = 50\n",
    "PATIENCE = 5\n",
    "DEVICE = torch.device(\"cuda\" if torch.cuda.is_available() else \"cpu\")\n",
    "\n",
    "# Transforms\n",
    "transform = transforms.Compose([\n",
    "    transforms.ToTensor()\n",
    "])\n",
    "\n",
    "# Dataset loaders\n",
    "train_dataset = ChestMNIST(split='train', transform=transform, download=True, size=64)\n",
    "val_dataset = ChestMNIST(split='val', transform=transform, download=True, size=64)\n",
    "train_loader = DataLoader(train_dataset, batch_size=BATCH_SIZE, shuffle=True)\n",
    "val_loader = DataLoader(val_dataset, batch_size=BATCH_SIZE)\n"
   ]
  },
  {
   "cell_type": "code",
   "execution_count": 4,
   "id": "950d3334",
   "metadata": {},
   "outputs": [],
   "source": [
    "# Model\n",
    "class ChestMNISTMultiLabelCNN(nn.Module):\n",
    "    def __init__(self):\n",
    "        super().__init__()\n",
    "        self.conv1 = nn.Conv2d(1, 32, kernel_size=3, padding=1)\n",
    "        self.pool = nn.MaxPool2d(2, 2)\n",
    "        self.conv2 = nn.Conv2d(32, 64, kernel_size=3, padding=1)\n",
    "        self.fc1 = nn.Linear(64 * 16 * 16, 128)\n",
    "        self.fc2 = nn.Linear(128, 14)\n",
    "\n",
    "    def forward(self, x):\n",
    "        x = self.pool(F.relu(self.conv1(x)))\n",
    "        x = self.pool(F.relu(self.conv2(x)))\n",
    "        x = x.view(x.size(0), -1)\n",
    "        x = F.relu(self.fc1(x))\n",
    "        return self.fc2(x)  # No sigmoid here\n",
    "\n",
    "# Initialize\n",
    "model = ChestMNISTMultiLabelCNN().to(DEVICE)\n",
    "optimizer = torch.optim.Adam(model.parameters(), lr=0.001)\n",
    "criterion = nn.BCEWithLogitsLoss()"
   ]
  },
  {
   "cell_type": "code",
   "execution_count": 7,
   "id": "f2c0ee4a",
   "metadata": {},
   "outputs": [
    {
     "name": "stdout",
     "output_type": "stream",
     "text": [
      "Epoch 1/50 - Train Loss: 0.1717 - Val Loss: 0.1720\n",
      "Epoch 2/50 - Train Loss: 0.1685 - Val Loss: 0.1683\n",
      "Epoch 3/50 - Train Loss: 0.1653 - Val Loss: 0.1660\n",
      "Epoch 4/50 - Train Loss: 0.1623 - Val Loss: 0.1652\n",
      "Epoch 5/50 - Train Loss: 0.1592 - Val Loss: 0.1657\n",
      "Epoch 6/50 - Train Loss: 0.1559 - Val Loss: 0.1663\n",
      "Epoch 7/50 - Train Loss: 0.1524 - Val Loss: 0.1677\n",
      "Epoch 8/50 - Train Loss: 0.1482 - Val Loss: 0.1723\n",
      "Epoch 9/50 - Train Loss: 0.1440 - Val Loss: 0.1731\n",
      "Early stopping triggered.\n"
     ]
    }
   ],
   "source": [
    "# Early stopping setup\n",
    "best_val_loss = float('inf')\n",
    "epochs_no_improve = 0\n",
    "# Training loop\n",
    "for epoch in range(NUM_EPOCHS):\n",
    "    model.train()\n",
    "    running_loss = 0.0\n",
    "    for inputs, targets in train_loader:\n",
    "        inputs = inputs.to(DEVICE)\n",
    "        targets = targets.to(DEVICE).float()\n",
    "        optimizer.zero_grad()\n",
    "        outputs = model(inputs)\n",
    "        loss = criterion(outputs, targets)\n",
    "        loss.backward()\n",
    "        optimizer.step()\n",
    "        running_loss += loss.item() * inputs.size(0)\n",
    "\n",
    "    avg_train_loss = running_loss / len(train_loader.dataset)\n",
    "\n",
    "    # Validation\n",
    "    model.eval()\n",
    "    val_loss = 0.0\n",
    "    with torch.no_grad():\n",
    "        for inputs, targets in val_loader:\n",
    "            inputs = inputs.to(DEVICE)\n",
    "            targets = targets.to(DEVICE).float()\n",
    "            outputs = model(inputs)\n",
    "            loss = criterion(outputs, targets)\n",
    "            val_loss += loss.item() * inputs.size(0)\n",
    "    avg_val_loss = val_loss / len(val_loader.dataset)\n",
    "\n",
    "    print(f\"Epoch {epoch+1}/{NUM_EPOCHS} - Train Loss: {avg_train_loss:.4f} - Val Loss: {avg_val_loss:.4f}\")\n",
    "\n",
    "    if avg_val_loss < best_val_loss:\n",
    "        best_val_loss = avg_val_loss\n",
    "        epochs_no_improve = 0\n",
    "        torch.save(model.state_dict(), \"pneumonia_classifier.pth\")\n",
    "    else:\n",
    "        epochs_no_improve += 1\n",
    "        if epochs_no_improve >= PATIENCE:\n",
    "            print(\"Early stopping triggered.\")\n",
    "            break"
   ]
  },
  {
   "cell_type": "code",
   "execution_count": 5,
   "id": "620cfa75",
   "metadata": {},
   "outputs": [
    {
     "name": "stdout",
     "output_type": "stream",
     "text": [
      "Pneumonia AUC on val: 0.705\n"
     ]
    }
   ],
   "source": [
    "model.load_state_dict(torch.load(\"pneumonia_classifier.pth\"))\n",
    "model.eval()\n",
    "pneumonia_probs = []\n",
    "pneumonia_labels = []\n",
    "\n",
    "with torch.no_grad():\n",
    "    for inputs, targets in val_loader:\n",
    "        inputs = inputs.to(DEVICE)\n",
    "        targets = targets.to(DEVICE)\n",
    "        outputs = torch.sigmoid(model(inputs))\n",
    "        pneumonia_probs.extend(outputs[:, 6].cpu().numpy())\n",
    "        pneumonia_labels.extend(targets[:, 6].cpu().numpy())\n",
    "\n",
    "auc = roc_auc_score(pneumonia_labels, pneumonia_probs)\n",
    "print(f\"Pneumonia AUC on val: {auc:.3f}\")\n"
   ]
  },
  {
   "cell_type": "code",
   "execution_count": 6,
   "id": "c74fae0b",
   "metadata": {},
   "outputs": [
    {
     "name": "stdout",
     "output_type": "stream",
     "text": [
      "✅ Collected 978 real pneumonia images.\n"
     ]
    }
   ],
   "source": [
    "import torch\n",
    "from torchvision import transforms\n",
    "from medmnist import ChestMNIST\n",
    "from torch.utils.data import DataLoader, Dataset\n",
    "import numpy as np\n",
    "\n",
    "# Constants\n",
    "IMG_SIZE = 64\n",
    "PNEUMONIA_LABEL = 6\n",
    "MAX_REAL_IMAGES = 1000  # you can reduce this for speed\n",
    "\n",
    "# Transform: keep [0,1] range\n",
    "transform = transforms.Compose([\n",
    "    transforms.ToTensor()\n",
    "])\n",
    "\n",
    "# Dataset wrapper to get only pneumonia images\n",
    "class PneumoniaDataset(Dataset):\n",
    "    def __init__(self, base_dataset, label_index=6):\n",
    "        self.base_dataset = base_dataset\n",
    "        self.indices = [i for i in range(len(base_dataset)) if int(base_dataset[i][1][label_index]) == 1]\n",
    "\n",
    "    def __len__(self):\n",
    "        return len(self.indices)\n",
    "\n",
    "    def __getitem__(self, idx):\n",
    "        img, _ = self.base_dataset[self.indices[idx]]\n",
    "        return img.squeeze(0).numpy()  # shape: (64, 64)\n",
    "\n",
    "# Load data\n",
    "full_dataset = ChestMNIST(split='train', transform=transform, download=True, size=IMG_SIZE)\n",
    "pneumonia_dataset = PneumoniaDataset(full_dataset, label_index=PNEUMONIA_LABEL)\n",
    "pneumonia_loader = DataLoader(pneumonia_dataset, batch_size=64, shuffle=False)\n",
    "\n",
    "# Collect up to N real pneumonia images\n",
    "real_pneumonia_images = []\n",
    "for batch in pneumonia_loader:\n",
    "    for img in batch:\n",
    "        real_pneumonia_images.append(img)\n",
    "        if len(real_pneumonia_images) >= MAX_REAL_IMAGES:\n",
    "            break\n",
    "    if len(real_pneumonia_images) >= MAX_REAL_IMAGES:\n",
    "        break\n",
    "\n",
    "print(f\"✅ Collected {len(real_pneumonia_images)} real pneumonia images.\")\n"
   ]
  },
  {
   "cell_type": "code",
   "execution_count": 13,
   "id": "526b26ce",
   "metadata": {},
   "outputs": [
    {
     "data": {
      "image/png": "[encoded data removed]",
      "text/plain": [
       "<Figure size 640x480 with 1 Axes>"
      ]
     },
     "metadata": {},
     "output_type": "display_data"
    },
    {
     "name": "stdout",
     "output_type": "stream",
     "text": [
      "Images passing confidence threshold: 0\n"
     ]
    }
   ],
   "source": [
    "import matplotlib.pyplot as plt\n",
    "confidences = []\n",
    "model.eval()\n",
    "with torch.no_grad():\n",
    "    for img_np, fname in top_ssim_images:\n",
    "        tensor_img = torch.tensor(img_np).unsqueeze(0).unsqueeze(0).to(DEVICE)\n",
    "        prob = torch.sigmoid(model(tensor_img))[0, 6].item()\n",
    "        confidences.append(prob)\n",
    "\n",
    "plt.hist(confidences, bins=50)\n",
    "plt.title(\"Classifier Confidence Distribution\")\n",
    "plt.xlabel(\"Pneumonia Confidence\")\n",
    "plt.ylabel(\"Count\")\n",
    "plt.show()\n",
    "\n",
    "print(\"Images passing confidence threshold:\", sum([c >= CONFIDENCE_THRESHOLD for c in confidences]))\n"
   ]
  },
  {
   "cell_type": "code",
   "execution_count": 7,
   "id": "695f9f2a",
   "metadata": {},
   "outputs": [
    {
     "name": "stdout",
     "output_type": "stream",
     "text": [
      "✅ Saved top 500 confident images to 'filtered_confidence_500/pneumonia'\n"
     ]
    }
   ],
   "source": [
    "import os\n",
    "import torch\n",
    "import imageio\n",
    "import numpy as np\n",
    "from torchvision import transforms\n",
    "from PIL import Image\n",
    "\n",
    "# Paths\n",
    "input_folder = 'augmented/pneumonia'\n",
    "output_folder = 'filtered_confidence_500/pneumonia'\n",
    "os.makedirs(output_folder, exist_ok=True)\n",
    "\n",
    "# Load classifier\n",
    "model.eval()\n",
    "\n",
    "# Transform for input\n",
    "transform = transforms.ToTensor()  # keeps input in [0, 1]\n",
    "\n",
    "\n",
    "# Collect confidences\n",
    "confidences = []\n",
    "image_data = []\n",
    "\n",
    "for fname in os.listdir(input_folder):\n",
    "    if not fname.endswith('.png'):\n",
    "        continue\n",
    "\n",
    "    path = os.path.join(input_folder, fname)\n",
    "    img = Image.open(path).convert(\"L\")\n",
    "    img_tensor = transform(img).unsqueeze(0).to(DEVICE)\n",
    "\n",
    "    with torch.no_grad():\n",
    "        prob = torch.sigmoid(model(img_tensor))[0, 6].item()  # pneumonia index\n",
    "\n",
    "    confidences.append(prob)\n",
    "    image_data.append((np.array(img), fname))\n",
    "\n",
    "# Sort and save top 1000\n",
    "sorted_images = sorted(zip(confidences, image_data), key=lambda x: x[0], reverse=True)\n",
    "top_images = sorted_images[:500]\n",
    "\n",
    "for i, (conf, (img_np, fname)) in enumerate(top_images):\n",
    "    save_path = os.path.join(output_folder, f\"{i:04d}_{conf:.3f}.png\")\n",
    "    imageio.imwrite(save_path, img_np)\n",
    "\n",
    "print(f\"✅ Saved top {len(top_images)} confident images to '{output_folder}'\")\n"
   ]
  }
 ],
 "metadata": {
  "kernelspec": {
   "display_name": "venv",
   "language": "python",
   "name": "python3"
  },
  "language_info": {
   "codemirror_mode": {
    "name": "ipython",
    "version": 3
   },
   "file_extension": ".py",
   "mimetype": "text/x-python",
   "name": "python",
   "nbconvert_exporter": "python",
   "pygments_lexer": "ipython3",
   "version": "3.11.9"
  }
 },
 "nbformat": 4,
 "nbformat_minor": 5
}
